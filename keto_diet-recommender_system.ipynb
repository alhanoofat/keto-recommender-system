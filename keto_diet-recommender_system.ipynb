{
 "cells": [
  {
   "cell_type": "markdown",
   "metadata": {},
   "source": [
    "## Problem Statement\n",
    "Nowadays, there are many weight-loss diets. Keto diet is one of the best and is getting more popular. It primarily consists of high-fats, moderate-proteins, and very-low-carbohydrates.<br>\n",
    "It could be time consuming to find a meal recipe that is consistent with Keto diet, along with personal preferences. Therefore, I created a recommender system that takes the user inputs, processes them, then outputs the best matches. It is based on a dataset of 1722 meal recipes. This system recommends the best meals that suit a user based on their preferences. It takes into consideration the user preferences of the meat type, such as fish, beef or chicken. It also considers the user's preferences of sorting the results.<br>\n",
    "The dataset could be found here: https://www.kaggle.com/hawkash/spoonacular-food-dataset"
   ]
  },
  {
   "cell_type": "markdown",
   "metadata": {},
   "source": [
    "## Importing the dataset and exploring it"
   ]
  },
  {
   "cell_type": "code",
   "execution_count": 1,
   "metadata": {},
   "outputs": [],
   "source": [
    "import numpy as np\n",
    "import scipy.stats as stats\n",
    "import seaborn as sns\n",
    "import matplotlib.pyplot as plt\n",
    "import pandas as pd\n",
    "\n",
    "sns.set(font_scale=1.5)\n",
    "%config InlineBackend.figure_format = 'retina'\n",
    "%matplotlib inline"
   ]
  },
  {
   "cell_type": "code",
   "execution_count": 2,
   "metadata": {},
   "outputs": [],
   "source": [
    "df= pd.read_csv('newfood.csv')"
   ]
  },
  {
   "cell_type": "code",
   "execution_count": 259,
   "metadata": {},
   "outputs": [
    {
     "data": {
      "text/plain": [
       "(1722, 62)"
      ]
     },
     "execution_count": 259,
     "metadata": {},
     "output_type": "execute_result"
    }
   ],
   "source": [
    "df.shape"
   ]
  },
  {
   "cell_type": "code",
   "execution_count": 260,
   "metadata": {},
   "outputs": [
    {
     "data": {
      "text/html": [
       "<div>\n",
       "<style scoped>\n",
       "    .dataframe tbody tr th:only-of-type {\n",
       "        vertical-align: middle;\n",
       "    }\n",
       "\n",
       "    .dataframe tbody tr th {\n",
       "        vertical-align: top;\n",
       "    }\n",
       "\n",
       "    .dataframe thead th {\n",
       "        text-align: right;\n",
       "    }\n",
       "</style>\n",
       "<table border=\"1\" class=\"dataframe\">\n",
       "  <thead>\n",
       "    <tr style=\"text-align: right;\">\n",
       "      <th></th>\n",
       "      <th>id</th>\n",
       "      <th>title</th>\n",
       "      <th>pricePerServing</th>\n",
       "      <th>weightPerServing</th>\n",
       "      <th>vegetarian</th>\n",
       "      <th>vegan</th>\n",
       "      <th>glutenFree</th>\n",
       "      <th>dairyFree</th>\n",
       "      <th>sustainable</th>\n",
       "      <th>veryHealthy</th>\n",
       "      <th>...</th>\n",
       "      <th>Fiber/g</th>\n",
       "      <th>Vitamin A/IU</th>\n",
       "      <th>Vitamin D/µg</th>\n",
       "      <th>Vitamin K/µg</th>\n",
       "      <th>Vitamin C/mg</th>\n",
       "      <th>Alcohol/g</th>\n",
       "      <th>Caffeine/g</th>\n",
       "      <th>meat</th>\n",
       "      <th>meat_category</th>\n",
       "      <th>keto</th>\n",
       "    </tr>\n",
       "  </thead>\n",
       "  <tbody>\n",
       "    <tr>\n",
       "      <th>0</th>\n",
       "      <td>1</td>\n",
       "      <td>fried anchovies with sage</td>\n",
       "      <td>5.6051</td>\n",
       "      <td>226</td>\n",
       "      <td>False</td>\n",
       "      <td>False</td>\n",
       "      <td>False</td>\n",
       "      <td>True</td>\n",
       "      <td>False</td>\n",
       "      <td>False</td>\n",
       "      <td>...</td>\n",
       "      <td>1.16</td>\n",
       "      <td>154.80</td>\n",
       "      <td>0.29</td>\n",
       "      <td>0.00</td>\n",
       "      <td>0.00</td>\n",
       "      <td>0.0</td>\n",
       "      <td>0.0</td>\n",
       "      <td>anchovies</td>\n",
       "      <td>fish</td>\n",
       "      <td>False</td>\n",
       "    </tr>\n",
       "    <tr>\n",
       "      <th>1</th>\n",
       "      <td>2</td>\n",
       "      <td>anchovies appetizer with breadcrumbs &amp; scallions</td>\n",
       "      <td>0.8206</td>\n",
       "      <td>33</td>\n",
       "      <td>False</td>\n",
       "      <td>False</td>\n",
       "      <td>False</td>\n",
       "      <td>True</td>\n",
       "      <td>False</td>\n",
       "      <td>False</td>\n",
       "      <td>...</td>\n",
       "      <td>0.38</td>\n",
       "      <td>0.00</td>\n",
       "      <td>0.00</td>\n",
       "      <td>7.18</td>\n",
       "      <td>0.00</td>\n",
       "      <td>0.0</td>\n",
       "      <td>0.0</td>\n",
       "      <td>anchovies</td>\n",
       "      <td>fish</td>\n",
       "      <td>False</td>\n",
       "    </tr>\n",
       "    <tr>\n",
       "      <th>2</th>\n",
       "      <td>3</td>\n",
       "      <td>carrots, cauliflower and anchovies</td>\n",
       "      <td>4.3800</td>\n",
       "      <td>364</td>\n",
       "      <td>False</td>\n",
       "      <td>False</td>\n",
       "      <td>False</td>\n",
       "      <td>True</td>\n",
       "      <td>False</td>\n",
       "      <td>True</td>\n",
       "      <td>...</td>\n",
       "      <td>9.99</td>\n",
       "      <td>21572.42</td>\n",
       "      <td>0.00</td>\n",
       "      <td>104.27</td>\n",
       "      <td>32.60</td>\n",
       "      <td>0.0</td>\n",
       "      <td>0.0</td>\n",
       "      <td>anchovies</td>\n",
       "      <td>fish</td>\n",
       "      <td>False</td>\n",
       "    </tr>\n",
       "    <tr>\n",
       "      <th>3</th>\n",
       "      <td>4</td>\n",
       "      <td>bap story: stir fried anchovies (myulchi bokkeum)</td>\n",
       "      <td>8.1122</td>\n",
       "      <td>711</td>\n",
       "      <td>False</td>\n",
       "      <td>False</td>\n",
       "      <td>True</td>\n",
       "      <td>True</td>\n",
       "      <td>False</td>\n",
       "      <td>True</td>\n",
       "      <td>...</td>\n",
       "      <td>2.10</td>\n",
       "      <td>180.52</td>\n",
       "      <td>6.24</td>\n",
       "      <td>16.02</td>\n",
       "      <td>3.88</td>\n",
       "      <td>0.0</td>\n",
       "      <td>0.0</td>\n",
       "      <td>anchovies</td>\n",
       "      <td>fish</td>\n",
       "      <td>True</td>\n",
       "    </tr>\n",
       "    <tr>\n",
       "      <th>4</th>\n",
       "      <td>5</td>\n",
       "      <td>bread, butter and anchovies</td>\n",
       "      <td>0.2557</td>\n",
       "      <td>36</td>\n",
       "      <td>False</td>\n",
       "      <td>False</td>\n",
       "      <td>False</td>\n",
       "      <td>False</td>\n",
       "      <td>False</td>\n",
       "      <td>False</td>\n",
       "      <td>...</td>\n",
       "      <td>1.24</td>\n",
       "      <td>128.27</td>\n",
       "      <td>0.00</td>\n",
       "      <td>2.21</td>\n",
       "      <td>0.00</td>\n",
       "      <td>0.0</td>\n",
       "      <td>0.0</td>\n",
       "      <td>anchovies</td>\n",
       "      <td>fish</td>\n",
       "      <td>False</td>\n",
       "    </tr>\n",
       "  </tbody>\n",
       "</table>\n",
       "<p>5 rows × 62 columns</p>\n",
       "</div>"
      ],
      "text/plain": [
       "   id                                              title  pricePerServing  \\\n",
       "0   1                          fried anchovies with sage           5.6051   \n",
       "1   2   anchovies appetizer with breadcrumbs & scallions           0.8206   \n",
       "2   3                 carrots, cauliflower and anchovies           4.3800   \n",
       "3   4  bap story: stir fried anchovies (myulchi bokkeum)           8.1122   \n",
       "4   5                        bread, butter and anchovies           0.2557   \n",
       "\n",
       "   weightPerServing  vegetarian  vegan  glutenFree  dairyFree  sustainable  \\\n",
       "0               226       False  False       False       True        False   \n",
       "1                33       False  False       False       True        False   \n",
       "2               364       False  False       False       True        False   \n",
       "3               711       False  False        True       True        False   \n",
       "4                36       False  False       False      False        False   \n",
       "\n",
       "   veryHealthy  ...  Fiber/g Vitamin A/IU  Vitamin D/µg  Vitamin K/µg  \\\n",
       "0        False  ...     1.16       154.80          0.29          0.00   \n",
       "1        False  ...     0.38         0.00          0.00          7.18   \n",
       "2         True  ...     9.99     21572.42          0.00        104.27   \n",
       "3         True  ...     2.10       180.52          6.24         16.02   \n",
       "4        False  ...     1.24       128.27          0.00          2.21   \n",
       "\n",
       "   Vitamin C/mg  Alcohol/g Caffeine/g       meat  meat_category   keto  \n",
       "0          0.00        0.0        0.0  anchovies           fish  False  \n",
       "1          0.00        0.0        0.0  anchovies           fish  False  \n",
       "2         32.60        0.0        0.0  anchovies           fish  False  \n",
       "3          3.88        0.0        0.0  anchovies           fish   True  \n",
       "4          0.00        0.0        0.0  anchovies           fish  False  \n",
       "\n",
       "[5 rows x 62 columns]"
      ]
     },
     "execution_count": 260,
     "metadata": {},
     "output_type": "execute_result"
    }
   ],
   "source": [
    "df.head()"
   ]
  },
  {
   "cell_type": "code",
   "execution_count": 4,
   "metadata": {},
   "outputs": [
    {
     "data": {
      "text/plain": [
       "Index(['id', 'title', 'pricePerServing', 'weightPerServing', 'vegetarian',\n",
       "       'vegan', 'glutenFree', 'dairyFree', 'sustainable', 'veryHealthy',\n",
       "       'veryPopular', 'gaps', 'lowFodmap', 'ketogenic', 'whole30',\n",
       "       'readyInMinutes', 'spoonacularSourceUrl', 'image', 'aggregateLikes',\n",
       "       'spoonacularScore', 'healthScore', 'percentProtein', 'percentFat',\n",
       "       'percentCarbs', 'dishTypes', 'ingredients', 'cuisines', 'calories',\n",
       "       'Fat/g', 'Saturated Fat/g', 'Carbohydrates/g', 'Sugar/g',\n",
       "       'Cholesterol/mg', 'Sodium/mg', 'Protein/g', 'Vitamin B3/mg',\n",
       "       'Selenium/µg', 'Phosphorus/mg', 'Iron/mg', 'Vitamin B2/mg',\n",
       "       'Calcium/mg', 'Vitamin B1/mg', 'Folate/µg', 'Potassium/mg', 'Copper/mg',\n",
       "       'Zinc/mg', 'Manganese/mg', 'Magnesium/mg', 'Vitamin B12/µg',\n",
       "       'Vitamin B5/mg', 'Vitamin B6/mg', 'Vitamin E/mg', 'Fiber/g',\n",
       "       'Vitamin A/IU', 'Vitamin D/µg', 'Vitamin K/µg', 'Vitamin C/mg',\n",
       "       'Alcohol/g', 'Caffeine/g'],\n",
       "      dtype='object')"
      ]
     },
     "execution_count": 4,
     "metadata": {},
     "output_type": "execute_result"
    }
   ],
   "source": [
    "df.columns"
   ]
  },
  {
   "cell_type": "code",
   "execution_count": 6,
   "metadata": {},
   "outputs": [
    {
     "data": {
      "text/plain": [
       "id                         0\n",
       "title                      0\n",
       "pricePerServing            0\n",
       "weightPerServing           0\n",
       "vegetarian                 0\n",
       "vegan                      0\n",
       "glutenFree                 0\n",
       "dairyFree                  0\n",
       "sustainable                0\n",
       "veryHealthy                0\n",
       "veryPopular                0\n",
       "gaps                       0\n",
       "lowFodmap                  0\n",
       "ketogenic                  0\n",
       "whole30                    0\n",
       "readyInMinutes             0\n",
       "spoonacularSourceUrl       0\n",
       "image                      5\n",
       "aggregateLikes             0\n",
       "spoonacularScore           0\n",
       "healthScore                0\n",
       "percentProtein             0\n",
       "percentFat                 0\n",
       "percentCarbs               0\n",
       "dishTypes                 78\n",
       "ingredients                0\n",
       "cuisines                1378\n",
       "calories                   0\n",
       "Fat/g                      0\n",
       "Saturated Fat/g            0\n",
       "Carbohydrates/g            0\n",
       "Sugar/g                    0\n",
       "Cholesterol/mg             0\n",
       "Sodium/mg                  0\n",
       "Protein/g                  0\n",
       "Vitamin B3/mg              0\n",
       "Selenium/µg                0\n",
       "Phosphorus/mg              0\n",
       "Iron/mg                    0\n",
       "Vitamin B2/mg              0\n",
       "Calcium/mg                 0\n",
       "Vitamin B1/mg              0\n",
       "Folate/µg                  0\n",
       "Potassium/mg               0\n",
       "Copper/mg                  0\n",
       "Zinc/mg                    0\n",
       "Manganese/mg               0\n",
       "Magnesium/mg               0\n",
       "Vitamin B12/µg             0\n",
       "Vitamin B5/mg              0\n",
       "Vitamin B6/mg              0\n",
       "Vitamin E/mg               0\n",
       "Fiber/g                    0\n",
       "Vitamin A/IU               0\n",
       "Vitamin D/µg               0\n",
       "Vitamin K/µg               0\n",
       "Vitamin C/mg               0\n",
       "Alcohol/g                  0\n",
       "Caffeine/g                 0\n",
       "dtype: int64"
      ]
     },
     "execution_count": 6,
     "metadata": {},
     "output_type": "execute_result"
    }
   ],
   "source": [
    "df.isnull().sum()"
   ]
  },
  {
   "cell_type": "markdown",
   "metadata": {},
   "source": [
    "### Data Dictionary\n",
    "| Feature |Type| Description | unit         \n",
    "| :- |:-|-------------: | :-:\n",
    "|id| int | a unique number for each recipe  | NA\n",
    "|title| object | recipe name  | NA\n",
    "|pricePerServing| float | cost per serving  | USD\n",
    "|weightPerServing| int | weight per serving  | Gram\n",
    "|vegetarian| bool | vegetarian recipe or not  | NA\n",
    "|vegan| bool | vegan recipe or not | NA\n",
    "|glutenFree| bool | gluten free or not | NA\n",
    "|dairyFree| bool | dairy free or not  | NA\n",
    "|sustainable| bool | is it sustainable? for more [click here](https://www.sustainweb.org/sustainablefood/what_is_sustainable_food/) | NA\n",
    "|veryHealthy| bool | is it very healthy?   | NA\n",
    "|veryPopular| bool | is it very popular?  | NA\n",
    "|gaps| object | gaps diet, for more [click here](http://www.gapsdiet.com/) | NA\n",
    "|lowFodmap| bool | low Fodmap diet or not, for more [click here](https://www.ibsdiets.org/fodmap-diet/fodmap-food-list/)  | NA\n",
    "|ketogenic| bool | ketogenic diet or not, for more [click here](https://www.healthline.com/nutrition/ketogenic-diet-101)   | NA\n",
    "|whole30| bool | whole30 diet or not,for more [click here](https://www.thekitchn.com/what-is-whole30-and-why-were-talking-about-it-this-month-239308)| NA\n",
    "|readyInMinutes| int | time of cooking  | minute\n",
    "|spoonacularSourceUrl| object | recipe source link   | NA\n",
    "|image| object | recipe image link  | NA\n",
    "|aggregateLikes| int | counts of likes  | NA\n",
    "|spoonacularScore| float | spoonacular score compares a recipe with all the other recipes using top-secret formula  | NA\n",
    "|healthScore| float | how health is the recipe   | NA\n",
    "|percentProtein| float | Protein percentage in a recipe| NA\n",
    "|percentFat| float | Fat percentage in a recipe  | NA\n",
    "|percentCarbs| float | Carbs percentage in a recipe  | NA\n",
    "|dishTypes| object | recipe dish type | NA\n",
    "|ingredients| object | ingredients to make a specific recipe  | NA\n",
    "|cuisines| object |  Regional recipe preparation traditions | NA\n",
    "|calories| float |  calories in one recipe | NA\n",
    "|other featuers| NA |  nutrition facts | different units\n",
    "\n"
   ]
  },
  {
   "cell_type": "markdown",
   "metadata": {},
   "source": [
    "## Feature Engineering"
   ]
  },
  {
   "cell_type": "markdown",
   "metadata": {},
   "source": [
    "In this section, I created three new columns; 'meat', 'meat_category', and 'keto'. The 'meat' column detrmines the type of meat contained in the meal, such as salmon, sausage, ribs or tuna. The 'meat_category' column determines the category of the meat contained in the meal. The categories are; fish, beef, chicken or pork. The 'keto' column determines whether or not the meal is keto."
   ]
  },
  {
   "cell_type": "markdown",
   "metadata": {},
   "source": [
    "For creating the 'meat' column, I gathered all the possible types of meat that are in the meals of this dataset. They are listed in the 'meats' list below.<br>\n",
    "Then I broke it down into four lists based on the category of the meat. This step is for creating the second column, 'meat_category'"
   ]
  },
  {
   "cell_type": "code",
   "execution_count": 129,
   "metadata": {},
   "outputs": [],
   "source": [
    "meats=['beef','salmon','chicken','fish','shrimp','shrimps','bacon','pork','sausage','anchovies',\n",
    "       'hotdog','boquerones','anchovy','halibut','snapper','cod','sole','prawn','turkey','steak','sirloin',\n",
    "       'bluefish','lamb','tuna','veal','crab','oysters','sea bass','bass','sea-bass','catfish','trout',\n",
    "       'haddock','monkfish','walleye','swordfish','flounder','ham','tilapia','marlin','hake','sardines','meat','duck',\n",
    "       'eel','scallop','calamari','ribs','seafood','mahimahi','bream','burgers','burger','mackerel','grouper','smelt',\n",
    "      'skate']\n",
    "fish=['salmon','fish','shrimp','shrimps','anchovies','boquerones','anchovy','halibut','snapper','cod','sole','prawn',\n",
    "     'bluefish','tuna','crab','oysters','sea bass','bass','sea-bass','catfish','trout','haddock','monkfish',\n",
    "      'walleye','swordfish','flounder','tilapia','marlin','hake','sardines','eel','scallop','calamari','seafood',\n",
    "     'mahimahi','bream','mackerel','grouper','smelt','skate']\n",
    "beef=['beef','turkey','steak','sirloin','lamb','veal','meat','duck','ribs','burgers','burger']\n",
    "chicken=['chicken']\n",
    "pork=['bacon','pork','sausage','hotdog','ham']"
   ]
  },
  {
   "cell_type": "markdown",
   "metadata": {},
   "source": [
    "Here, I created a pattern that contains all the names of the meats."
   ]
  },
  {
   "cell_type": "code",
   "execution_count": 130,
   "metadata": {},
   "outputs": [],
   "source": [
    "mm= '(beef|salmon|chicken|fish|shrimp|shrimps|bacon|pork|sausage|anchovies|hotdog|boquerones|anchovy|halibut|snapper|cod|sole|prawn|turkey|steak|sirloin|bluefish|lamb|tuna|veal|crab|oysters|sea bass|bass|sea-bass|catfish|trout|haddock|monkfish|walleye|swordfish|flounder|ham|tilapia|marlin|hake|sardines|meat|duck|eel|scallop|calamari|ribs|seafood|mahimahi|bream|burgers|burger|mackerel|grouper|smelt|skate)'\n",
    "    "
   ]
  },
  {
   "cell_type": "markdown",
   "metadata": {},
   "source": [
    "Converting the text of the 'title' column to lowercase in order to extract the pattern."
   ]
  },
  {
   "cell_type": "code",
   "execution_count": 62,
   "metadata": {},
   "outputs": [],
   "source": [
    "df['title']=df['title'].apply(lambda x: x.lower())"
   ]
  },
  {
   "cell_type": "markdown",
   "metadata": {},
   "source": [
    "Extracting the meat name from the 'title' and assigning it to the new column 'meat'. The process is done by passing the pattern to extract() function."
   ]
  },
  {
   "cell_type": "code",
   "execution_count": 131,
   "metadata": {},
   "outputs": [],
   "source": [
    "\n",
    "df['meat']=df['title'].str.extract(mm)"
   ]
  },
  {
   "cell_type": "markdown",
   "metadata": {},
   "source": [
    "If there is no meat extracted from the pattern, fill it with 'not_meat' indicating that the meal is not meat-based."
   ]
  },
  {
   "cell_type": "code",
   "execution_count": 141,
   "metadata": {},
   "outputs": [],
   "source": [
    "df['meat'].fillna('not_meat',inplace=True)"
   ]
  },
  {
   "cell_type": "markdown",
   "metadata": {},
   "source": [
    "Creating the 'meat_category' column by checking the list that 'meat' belongs to. The category lists are created above. "
   ]
  },
  {
   "cell_type": "code",
   "execution_count": 133,
   "metadata": {},
   "outputs": [],
   "source": [
    "df['meat_category']=df['meat'].apply(lambda x: 'fish' if x in fish else 'beef' if x in beef else 'chicken' if x in chicken else 'pork' if x in pork else 'not_meat')\n"
   ]
  },
  {
   "cell_type": "code",
   "execution_count": 139,
   "metadata": {},
   "outputs": [
    {
     "data": {
      "text/plain": [
       "fish        1123\n",
       "not_meat     470\n",
       "beef          65\n",
       "chicken       39\n",
       "pork          25\n",
       "Name: meat_category, dtype: int64"
      ]
     },
     "execution_count": 139,
     "metadata": {},
     "output_type": "execute_result"
    }
   ],
   "source": [
    "df['meat_category'].value_counts()"
   ]
  },
  {
   "cell_type": "code",
   "execution_count": 142,
   "metadata": {},
   "outputs": [
    {
     "data": {
      "text/plain": [
       "Index(['id', 'title', 'pricePerServing', 'weightPerServing', 'vegetarian',\n",
       "       'vegan', 'glutenFree', 'dairyFree', 'sustainable', 'veryHealthy',\n",
       "       'veryPopular', 'gaps', 'lowFodmap', 'ketogenic', 'whole30',\n",
       "       'readyInMinutes', 'spoonacularSourceUrl', 'image', 'aggregateLikes',\n",
       "       'spoonacularScore', 'healthScore', 'percentProtein', 'percentFat',\n",
       "       'percentCarbs', 'dishTypes', 'ingredients', 'cuisines', 'calories',\n",
       "       'Fat/g', 'Saturated Fat/g', 'Carbohydrates/g', 'Sugar/g',\n",
       "       'Cholesterol/mg', 'Sodium/mg', 'Protein/g', 'Vitamin B3/mg',\n",
       "       'Selenium/µg', 'Phosphorus/mg', 'Iron/mg', 'Vitamin B2/mg',\n",
       "       'Calcium/mg', 'Vitamin B1/mg', 'Folate/µg', 'Potassium/mg', 'Copper/mg',\n",
       "       'Zinc/mg', 'Manganese/mg', 'Magnesium/mg', 'Vitamin B12/µg',\n",
       "       'Vitamin B5/mg', 'Vitamin B6/mg', 'Vitamin E/mg', 'Fiber/g',\n",
       "       'Vitamin A/IU', 'Vitamin D/µg', 'Vitamin K/µg', 'Vitamin C/mg',\n",
       "       'Alcohol/g', 'Caffeine/g', 'meat', 'meat_category'],\n",
       "      dtype='object')"
      ]
     },
     "execution_count": 142,
     "metadata": {},
     "output_type": "execute_result"
    }
   ],
   "source": [
    "df.columns"
   ]
  },
  {
   "cell_type": "markdown",
   "metadata": {},
   "source": [
    "Creating the 'keto' column by calculating the ratios of fat, carbs, and protein in the meal. If the fat ratio is between 75% and 45%, the carbs ratio is between 15% and 3%, and the protein ratio is betwen 40% and 20%, then mark it as a keto meal"
   ]
  },
  {
   "cell_type": "code",
   "execution_count": 173,
   "metadata": {},
   "outputs": [],
   "source": [
    "keto=[]\n",
    "\n",
    "for row in df.itertuples():\n",
    "    if (row.percentFat)<=75.00 and (row.percentFat)>45.00 and (row.percentCarbs)<=15.00 and (row.percentCarbs)>3.00 and (row.percentProtein)<=40.00 and (row.percentProtein)>20.00:\n",
    "        keto.append(True)\n",
    "    else:\n",
    "        keto.append(False)\n",
    "            "
   ]
  },
  {
   "cell_type": "code",
   "execution_count": 174,
   "metadata": {},
   "outputs": [],
   "source": [
    "df['keto']=keto"
   ]
  },
  {
   "cell_type": "code",
   "execution_count": 175,
   "metadata": {},
   "outputs": [
    {
     "data": {
      "text/plain": [
       "False    1506\n",
       "True      216\n",
       "Name: keto, dtype: int64"
      ]
     },
     "execution_count": 175,
     "metadata": {},
     "output_type": "execute_result"
    }
   ],
   "source": [
    "df['keto'].value_counts()"
   ]
  },
  {
   "cell_type": "markdown",
   "metadata": {},
   "source": [
    "### New Columns Data Dictionary\n",
    "\n",
    "| Feature |Type| Description | unit         \n",
    "| :- |:-|-------------: | :-:\n",
    "|meat| object | The exact type of meat contained in the recipe  | NA\n",
    "|meat_category| object | The category of the meat: fish, beef, chicken, pork, or not_meat | NA\n",
    "|keto| boolean | Whether or not the recipe is a keto diet meal  | NA"
   ]
  },
  {
   "cell_type": "markdown",
   "metadata": {},
   "source": [
    "## Creating the Keto Diet Recommender System"
   ]
  },
  {
   "cell_type": "markdown",
   "metadata": {},
   "source": [
    "### User input\n",
    "The system asks for user inputs. It prompts the user to select:\n",
    "- The type of meat they prefer\n",
    "- How to sort the results\n",
    "- The number of results to be shown"
   ]
  },
  {
   "cell_type": "code",
   "execution_count": 267,
   "metadata": {},
   "outputs": [
    {
     "name": "stdout",
     "output_type": "stream",
     "text": [
      "This is the Keto diet recommender system\n",
      "\n",
      "Please input the letter of your favorite meat category out of these options:\n",
      "a: Fish\n",
      "b: Beef\n",
      "c: Chicken\n",
      "d: Pork\n",
      "e: no meat\n",
      "b\n",
      "How would you like to sort the results? Please input the letter of your choice\n",
      "a: By health score\n",
      "b: by spoonacular score\n",
      "b\n",
      "Choose the number of results. Please input the letter of your choice\n",
      "a: Top 3\n",
      "b: Top 5\n",
      "c: Show all\n",
      "a\n"
     ]
    }
   ],
   "source": [
    "print('This is the Keto diet recommender system\\n')\n",
    "meat=input('Please input the letter of your favorite meat category out of these options:\\na: Fish\\nb: Beef\\nc: Chicken\\nd: Pork\\ne: no meat\\n')\n",
    "sort=input('How would you like to sort the results? Please input the letter of your choice\\na: By health score\\nb: by spoonacular score\\n')\n",
    "result=input('Choose the number of results. Please input the letter of your choice\\na: Top 3\\nb: Top 5\\nc: Show all\\n')\n"
   ]
  },
  {
   "cell_type": "markdown",
   "metadata": {},
   "source": [
    "### Processing\n",
    "The following code processes the user inputs"
   ]
  },
  {
   "cell_type": "code",
   "execution_count": 268,
   "metadata": {},
   "outputs": [],
   "source": [
    "# the i variable is an indicator that the input is valid\n",
    "i=0\n",
    "\n",
    "#if meat input is a, assign all keto meals containing fish to df_new dataframe\n",
    "if meat == 'a':\n",
    "    df_new=df[(df['keto']==True)& (df['meat_category']=='fish')]\n",
    "    i=1\n",
    "\n",
    "#if meat input is b, assign all keto meals containing beef to df_new dataframe\n",
    "elif meat== 'b':\n",
    "    df_new=df[(df['keto']==True)& (df['meat_category']=='beef')]\n",
    "    i=1\n",
    "\n",
    "#if meat input is c, assign all keto meals containing chicken to df_new dataframe\n",
    "elif meat== 'c':\n",
    "    df_new=df[(df['keto']==True)& (df['meat_category']=='chicken')]\n",
    "    i=1\n",
    "\n",
    "#if meat input is d, assign all keto meals containing pork to df_new dataframe\n",
    "elif meat== 'd':\n",
    "    df_new=df[(df['keto']==True)& (df['meat_category']=='pork')]\n",
    "    i=1\n",
    "\n",
    "#if meat input is e, assign all keto meals containing no meet to df_new dataframe\n",
    "elif meat== 'e':\n",
    "    df_new=df[(df['keto']==True)& (df['meat']=='not_meat')]\n",
    "    i=1\n",
    "\n",
    "#if the input is neither of the options, alert the user\n",
    "else:\n",
    "    print('No correct input for meat category')\n",
    "    i=0\n",
    "\n",
    "    \n",
    "if i==1:\n",
    "#Selecting the columns that the user cares about the most\n",
    "    df_new=df_new[['title','spoonacularScore','healthScore','percentProtein','percentFat','percentCarbs','meat','meat_category','spoonacularSourceUrl']]\n",
    "\n",
    "#if sort input is a, sort result by health score\n",
    "    if sort== 'a':\n",
    "        df_new.sort_values(by=['healthScore'],ascending=False,inplace=True)\n",
    "\n",
    "#if sort input is b, sort result by spoonacular score\n",
    "    elif sort== 'b':\n",
    "        df_new.sort_values(by=['spoonacularScore'],ascending=False,inplace=True)\n",
    "\n",
    "#if the input is neither of the options, alert the user\n",
    "    else:\n",
    "        print('No correct input for sorting option')\n",
    "\n",
    "#if result input is a, show the first 3 meals\n",
    "    if result == 'a':\n",
    "        df_new=df_new.head(3)\n",
    "\n",
    "#if result input is b, show the first 5 meals\n",
    "    elif result== 'b':\n",
    "        df_new=df_new.head()\n",
    "        \n",
    "#if result input is c, show all meals\n",
    "    elif result== 'c':\n",
    "        df_new=df_new\n",
    "        \n",
    "#if the input is neither of the options, alert the user\n",
    "    else:\n",
    "        print('No correct input number of results')\n",
    "    \n",
    "    \n",
    "    \n",
    "    "
   ]
  },
  {
   "cell_type": "markdown",
   "metadata": {},
   "source": [
    "### Output"
   ]
  },
  {
   "cell_type": "code",
   "execution_count": 269,
   "metadata": {},
   "outputs": [
    {
     "name": "stdout",
     "output_type": "stream",
     "text": [
      "These are the best meals for you\n"
     ]
    },
    {
     "data": {
      "text/html": [
       "<div>\n",
       "<style scoped>\n",
       "    .dataframe tbody tr th:only-of-type {\n",
       "        vertical-align: middle;\n",
       "    }\n",
       "\n",
       "    .dataframe tbody tr th {\n",
       "        vertical-align: top;\n",
       "    }\n",
       "\n",
       "    .dataframe thead th {\n",
       "        text-align: right;\n",
       "    }\n",
       "</style>\n",
       "<table border=\"1\" class=\"dataframe\">\n",
       "  <thead>\n",
       "    <tr style=\"text-align: right;\">\n",
       "      <th></th>\n",
       "      <th>title</th>\n",
       "      <th>spoonacularScore</th>\n",
       "      <th>healthScore</th>\n",
       "      <th>percentProtein</th>\n",
       "      <th>percentFat</th>\n",
       "      <th>percentCarbs</th>\n",
       "      <th>meat</th>\n",
       "      <th>meat_category</th>\n",
       "      <th>spoonacularSourceUrl</th>\n",
       "    </tr>\n",
       "  </thead>\n",
       "  <tbody>\n",
       "    <tr>\n",
       "      <th>661</th>\n",
       "      <td>tuscan braised short ribs</td>\n",
       "      <td>87.0</td>\n",
       "      <td>35.0</td>\n",
       "      <td>36.74</td>\n",
       "      <td>55.79</td>\n",
       "      <td>7.47</td>\n",
       "      <td>ribs</td>\n",
       "      <td>beef</td>\n",
       "      <td>https://spoonacular.com/tuscan-braised-short-r...</td>\n",
       "    </tr>\n",
       "    <tr>\n",
       "      <th>261</th>\n",
       "      <td>pan-seared steak with caper-anchovy butter</td>\n",
       "      <td>83.0</td>\n",
       "      <td>22.0</td>\n",
       "      <td>28.22</td>\n",
       "      <td>68.15</td>\n",
       "      <td>3.63</td>\n",
       "      <td>steak</td>\n",
       "      <td>beef</td>\n",
       "      <td>https://spoonacular.com/pan-seared-steak-with-...</td>\n",
       "    </tr>\n",
       "    <tr>\n",
       "      <th>730</th>\n",
       "      <td>grilled rib-eye steaks with roasted peppers</td>\n",
       "      <td>79.0</td>\n",
       "      <td>53.0</td>\n",
       "      <td>26.92</td>\n",
       "      <td>67.75</td>\n",
       "      <td>5.33</td>\n",
       "      <td>steak</td>\n",
       "      <td>beef</td>\n",
       "      <td>https://spoonacular.com/grilled-rib-eye-steaks...</td>\n",
       "    </tr>\n",
       "  </tbody>\n",
       "</table>\n",
       "</div>"
      ],
      "text/plain": [
       "                                           title  spoonacularScore  \\\n",
       "661                    tuscan braised short ribs              87.0   \n",
       "261   pan-seared steak with caper-anchovy butter              83.0   \n",
       "730  grilled rib-eye steaks with roasted peppers              79.0   \n",
       "\n",
       "     healthScore  percentProtein  percentFat  percentCarbs   meat  \\\n",
       "661         35.0           36.74       55.79          7.47   ribs   \n",
       "261         22.0           28.22       68.15          3.63  steak   \n",
       "730         53.0           26.92       67.75          5.33  steak   \n",
       "\n",
       "    meat_category                               spoonacularSourceUrl  \n",
       "661          beef  https://spoonacular.com/tuscan-braised-short-r...  \n",
       "261          beef  https://spoonacular.com/pan-seared-steak-with-...  \n",
       "730          beef  https://spoonacular.com/grilled-rib-eye-steaks...  "
      ]
     },
     "execution_count": 269,
     "metadata": {},
     "output_type": "execute_result"
    }
   ],
   "source": [
    "print('These are the best meals for you')\n",
    "df_new"
   ]
  },
  {
   "cell_type": "code",
   "execution_count": null,
   "metadata": {},
   "outputs": [],
   "source": []
  }
 ],
 "metadata": {
  "kernelspec": {
   "display_name": "Python 3",
   "language": "python",
   "name": "python3"
  },
  "language_info": {
   "codemirror_mode": {
    "name": "ipython",
    "version": 3
   },
   "file_extension": ".py",
   "mimetype": "text/x-python",
   "name": "python",
   "nbconvert_exporter": "python",
   "pygments_lexer": "ipython3",
   "version": "3.7.3"
  }
 },
 "nbformat": 4,
 "nbformat_minor": 2
}
